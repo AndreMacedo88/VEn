{
 "cells": [
  {
   "cell_type": "code",
   "execution_count": 2,
   "metadata": {
    "collapsed": false
   },
   "outputs": [
    {
     "name": "stdout",
     "output_type": "stream",
     "text": [
      "hello\n"
     ]
    }
   ],
   "source": [
    "import Classes\n",
    "print (\"hello\")"
   ]
  },
  {
   "cell_type": "code",
   "execution_count": 3,
   "metadata": {},
   "outputs": [
    {
     "ename": "NameError",
     "evalue": "name 'file_name' is not defined",
     "traceback": [
      "\u001b[1;31m---------------------------------------------------------------------------\u001b[0m",
      "\u001b[1;31mNameError\u001b[0m                                 Traceback (most recent call last)",
      "\u001b[1;32m<ipython-input-3-4aff8cf389ac>\u001b[0m in \u001b[0;36m<module>\u001b[1;34m()\u001b[0m\n\u001b[1;32m----> 1\u001b[1;33m initialize_promoters = Classes.Promoters(file_name, complete_primary_cell_list,\n\u001b[0m\u001b[0;32m      2\u001b[0m                                          \u001b[0mcelltype_exclude\u001b[0m\u001b[1;33m=\u001b[0m\u001b[0mcomplete_primary_exclude_list\u001b[0m\u001b[1;33m,\u001b[0m\u001b[1;33m\u001b[0m\u001b[0m\n\u001b[0;32m      3\u001b[0m                                          \u001b[0mnot_include\u001b[0m\u001b[1;33m=\u001b[0m\u001b[0mcomplete_primary_non_include_list\u001b[0m\u001b[1;33m,\u001b[0m\u001b[1;33m\u001b[0m\u001b[0m\n\u001b[0;32m      4\u001b[0m                                          \u001b[0mpartial_exclude\u001b[0m\u001b[1;33m=\u001b[0m\u001b[0mcomplete_primary_jit_exclude_list\u001b[0m\u001b[1;33m,\u001b[0m\u001b[1;33m\u001b[0m\u001b[0m\n\u001b[0;32m      5\u001b[0m                                          \u001b[0msample_types\u001b[0m\u001b[1;33m=\u001b[0m\u001b[1;34m\"primary cells\"\u001b[0m\u001b[1;33m,\u001b[0m \u001b[0msecond_parser\u001b[0m\u001b[1;33m=\u001b[0m\u001b[1;32mNone\u001b[0m\u001b[1;33m,\u001b[0m \u001b[0mlog_level\u001b[0m\u001b[1;33m=\u001b[0m\u001b[1;34m\"info\"\u001b[0m\u001b[1;33m,\u001b[0m\u001b[1;33m\u001b[0m\u001b[0m\n",
      "\u001b[1;31mNameError\u001b[0m: name 'file_name' is not defined"
     ],
     "output_type": "error"
    }
   ],
   "source": [
    "initialize_promoters = Classes.Promoters(file_name, complete_primary_cell_list,\n",
    "                                         celltype_exclude=complete_primary_exclude_list,\n",
    "                                         not_include=complete_primary_non_include_list,\n",
    "                                         partial_exclude=complete_primary_jit_exclude_list,\n",
    "                                         sample_types=\"primary cells\", second_parser=None, log_level=\"info\",\n",
    "                                         nrows=2000)\n"
   ]
  },
  {
   "cell_type": "code",
   "execution_count": 8,
   "metadata": {},
   "outputs": [
    {
     "name": "stdout",
     "output_type": "stream",
     "text": [
      "('andre',)\n('joana',)\n"
     ]
    }
   ],
   "source": [
    "from Utils import Util\n",
    "lst = [[\"andre\", \"joana\"]]\n",
    "for i in Util.combinations_from_nested_lists(lst):\n",
    "    print(i)"
   ]
  },
  {
   "cell_type": "code",
   "execution_count": null,
   "metadata": {},
   "outputs": [],
   "source": []
  }
 ],
 "metadata": {
  "kernelspec": {
   "display_name": "Python 2",
   "language": "python",
   "name": "python2"
  },
  "language_info": {
   "codemirror_mode": {
    "name": "ipython",
    "version": 2
   },
   "file_extension": ".py",
   "mimetype": "text/x-python",
   "name": "python",
   "nbconvert_exporter": "python",
   "pygments_lexer": "ipython2",
   "version": "2.7.6"
  }
 },
 "nbformat": 4,
 "nbformat_minor": 0
}
